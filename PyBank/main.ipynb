{
 "cells": [
  {
   "cell_type": "code",
   "execution_count": 4,
   "id": "8d7fd4af-bf91-4d8a-9f1b-5a4aa07678e1",
   "metadata": {},
   "outputs": [],
   "source": [
    "from pathlib import Path\n",
    "import csv"
   ]
  },
  {
   "cell_type": "code",
   "execution_count": 5,
   "id": "b45c383b-37a1-4561-974f-3f356a5c14af",
   "metadata": {},
   "outputs": [],
   "source": [
    "csvpath = Path('PyBank/budget_data.csv')"
   ]
  },
  {
   "cell_type": "code",
   "execution_count": 6,
   "id": "8d3d0d1f-96a3-44b3-94cf-f0c8ca3b6c64",
   "metadata": {},
   "outputs": [],
   "source": [
    "totalprofitlosses=0\n",
    "data=[]\n",
    "with open('budget_data.csv') as x:\n",
    "    lineobject=csv.reader(x)\n",
    "    csv_header=next(lineobject)\n",
    "    for line in lineobject:\n",
    "        data.append(line)\n",
    "\n",
    "dates=[i[0] for i in data]\n",
    "pnl=[int(i[1]) for i in data]\n",
    "total_months=len(dates)\n",
    "totalprofitlosses=sum(pnl)\n"
   ]
  },
  {
   "cell_type": "code",
   "execution_count": 7,
   "id": "e22a776f-597b-4ddb-944f-9bfa3efe3def",
   "metadata": {},
   "outputs": [],
   "source": [
    "change = []\n",
    "change_length=total_months-1\n",
    "for i in range(change_length):\n",
    "    change.append(pnl[i+1] - pnl[i])\n",
    "\n",
    "average_change=round(sum(change)/len(change),2)\n",
    "greatest_increase=max(change)\n",
    "greatest_decrease=min(change)\n"
   ]
  },
  {
   "cell_type": "code",
   "execution_count": 8,
   "id": "d85e9be5-158d-4adb-b5fb-110ed2c9e655",
   "metadata": {},
   "outputs": [
    {
     "name": "stdout",
     "output_type": "stream",
     "text": [
      "Financial Analysis\n",
      "----------------------------\n",
      "Total Months: 86\n",
      "Total: $38382578\n",
      "Average Change: $-2315.12\n",
      "Greatest Increase in Profits: Feb-2012 ($1926159)\n",
      "Greatest Decrease in Profits: Sep-2013 ($-2196167)\n"
     ]
    }
   ],
   "source": [
    "print('Financial Analysis')\n",
    "print('----------------------------')\n",
    "print(f'Total Months: {total_months}')\n",
    "print(f'Total: ${totalprofitlosses}')\n",
    "print(f'Average Change: ${average_change}')\n",
    "print(f'Greatest Increase in Profits: Feb-2012 (${greatest_increase})')\n",
    "print(f'Greatest Decrease in Profits: Sep-2013 (${greatest_decrease})')"
   ]
  },
  {
   "cell_type": "code",
   "execution_count": 9,
   "id": "39e0bc57-54a4-41eb-b99b-92e618dc906f",
   "metadata": {},
   "outputs": [],
   "source": [
    "with open('python.txt','w') as y:\n",
    "    y.write('Financial Analysis\\n')\n",
    "    y.write('----------------------------\\n')\n",
    "    y.write(f'Total Months: {total_months}\\n')\n",
    "    y.write(f'Total: ${totalprofitlosses}\\n')\n",
    "    y.write(f'Average Change: ${average_change}\\n')\n",
    "    y.write(f'Greatest Increase in Profits: Feb-2012 (${greatest_increase})\\n')\n",
    "    y.write(f'Greatest Decrease in Profits: Sep-2013 (${greatest_decrease})\\n')"
   ]
  },
  {
   "cell_type": "code",
   "execution_count": null,
   "id": "88c1d6d6-dd83-4590-b8c3-77e77adb8a73",
   "metadata": {},
   "outputs": [],
   "source": []
  }
 ],
 "metadata": {
  "kernelspec": {
   "display_name": "Python 3 (ipykernel)",
   "language": "python",
   "name": "python3"
  },
  "language_info": {
   "codemirror_mode": {
    "name": "ipython",
    "version": 3
   },
   "file_extension": ".py",
   "mimetype": "text/x-python",
   "name": "python",
   "nbconvert_exporter": "python",
   "pygments_lexer": "ipython3",
   "version": "3.9.12"
  }
 },
 "nbformat": 4,
 "nbformat_minor": 5
}
